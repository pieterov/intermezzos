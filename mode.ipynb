{
 "cells": [
  {
   "cell_type": "markdown",
   "metadata": {
    "tags": []
   },
   "source": [
    "### Intermezzo - How does the mode() function work, and how to extract useful information"
   ]
  },
  {
   "cell_type": "markdown",
   "metadata": {},
   "source": [
    "**Aim:** Determine the mode for each categorical feature in a data frame and infere information from the results. Mode is the most frequently present value in the concerned feature.\n",
    "\n",
    "We start by importing the Pandas package,"
   ]
  },
  {
   "cell_type": "code",
   "execution_count": 2,
   "metadata": {},
   "outputs": [],
   "source": [
    "import pandas as pd"
   ]
  },
  {
   "cell_type": "markdown",
   "metadata": {},
   "source": [
    "and create a data frame with some exemplary data."
   ]
  },
  {
   "cell_type": "code",
   "execution_count": 3,
   "metadata": {},
   "outputs": [],
   "source": [
    "df = pd.DataFrame({\n",
    "    \n",
    "    'animal': [\"dog\", \"cat\", \"dog\", \"cat\", \"dog\", \"cat\", \"horse\"],\n",
    "    \"id\": [\"a7\", \"a5\", \"a3\", \"a4\", \"a1\", \"a6\", \"a2\"],\n",
    "    \"color\": [\"red\", \"red\", \"red\", \"red\", \"red\", \"red\", \"blue\"]\n",
    "})"
   ]
  },
  {
   "cell_type": "markdown",
   "metadata": {},
   "source": [
    "Applying the `mode()` function, we get a data frame with most frequently present values in each of the columns. In the `animal` column cat and dog are present at the same frequency, i.e., 3. Both are listed in the data frame in alphabetical order. Cat is mentioned first even though dog was mentioned first in `df.animal`. In `df.id` all values are unique, so they all show up alphabetically ordered in the data frame below. A clear cut case - where there is just one the winner - is shown in `df.color` where red occurs most often."
   ]
  },
  {
   "cell_type": "code",
   "execution_count": 4,
   "metadata": {},
   "outputs": [
    {
     "data": {
      "text/html": [
       "<div>\n",
       "<style scoped>\n",
       "    .dataframe tbody tr th:only-of-type {\n",
       "        vertical-align: middle;\n",
       "    }\n",
       "\n",
       "    .dataframe tbody tr th {\n",
       "        vertical-align: top;\n",
       "    }\n",
       "\n",
       "    .dataframe thead th {\n",
       "        text-align: right;\n",
       "    }\n",
       "</style>\n",
       "<table border=\"1\" class=\"dataframe\">\n",
       "  <thead>\n",
       "    <tr style=\"text-align: right;\">\n",
       "      <th></th>\n",
       "      <th>animal</th>\n",
       "      <th>id</th>\n",
       "      <th>color</th>\n",
       "    </tr>\n",
       "  </thead>\n",
       "  <tbody>\n",
       "    <tr>\n",
       "      <th>0</th>\n",
       "      <td>cat</td>\n",
       "      <td>a1</td>\n",
       "      <td>red</td>\n",
       "    </tr>\n",
       "    <tr>\n",
       "      <th>1</th>\n",
       "      <td>dog</td>\n",
       "      <td>a2</td>\n",
       "      <td>NaN</td>\n",
       "    </tr>\n",
       "    <tr>\n",
       "      <th>2</th>\n",
       "      <td>NaN</td>\n",
       "      <td>a3</td>\n",
       "      <td>NaN</td>\n",
       "    </tr>\n",
       "    <tr>\n",
       "      <th>3</th>\n",
       "      <td>NaN</td>\n",
       "      <td>a4</td>\n",
       "      <td>NaN</td>\n",
       "    </tr>\n",
       "    <tr>\n",
       "      <th>4</th>\n",
       "      <td>NaN</td>\n",
       "      <td>a5</td>\n",
       "      <td>NaN</td>\n",
       "    </tr>\n",
       "    <tr>\n",
       "      <th>5</th>\n",
       "      <td>NaN</td>\n",
       "      <td>a6</td>\n",
       "      <td>NaN</td>\n",
       "    </tr>\n",
       "    <tr>\n",
       "      <th>6</th>\n",
       "      <td>NaN</td>\n",
       "      <td>a7</td>\n",
       "      <td>NaN</td>\n",
       "    </tr>\n",
       "  </tbody>\n",
       "</table>\n",
       "</div>"
      ],
      "text/plain": [
       "  animal  id color\n",
       "0    cat  a1   red\n",
       "1    dog  a2   NaN\n",
       "2    NaN  a3   NaN\n",
       "3    NaN  a4   NaN\n",
       "4    NaN  a5   NaN\n",
       "5    NaN  a6   NaN\n",
       "6    NaN  a7   NaN"
      ]
     },
     "execution_count": 4,
     "metadata": {},
     "output_type": "execute_result"
    }
   ],
   "source": [
    "df_mode = df.mode()\n",
    "\n",
    "df_mode\n"
   ]
  },
  {
   "cell_type": "markdown",
   "metadata": {},
   "source": [
    "To get candidates for the most frequently values we can take the first row."
   ]
  },
  {
   "cell_type": "code",
   "execution_count": 5,
   "metadata": {},
   "outputs": [
    {
     "data": {
      "text/plain": [
       "animal    cat\n",
       "id         a1\n",
       "color     red\n",
       "Name: 0, dtype: object"
      ]
     },
     "execution_count": 5,
     "metadata": {},
     "output_type": "execute_result"
    }
   ],
   "source": [
    "df_mode.iloc[0]"
   ]
  },
  {
   "cell_type": "markdown",
   "metadata": {},
   "source": [
    "Though, we should be aware that there can be other values occuring at the same maximum frequency. Here, we count the number of features that have more than one value present at the maximum frequency."
   ]
  },
  {
   "cell_type": "code",
   "execution_count": 6,
   "metadata": {},
   "outputs": [
    {
     "data": {
      "text/plain": [
       "2"
      ]
     },
     "execution_count": 6,
     "metadata": {},
     "output_type": "execute_result"
    }
   ],
   "source": [
    "df_mode.iloc[1].notna().sum()"
   ]
  },
  {
   "cell_type": "markdown",
   "metadata": {},
   "source": [
    "A so-called `list comprehension` is an elegant way to identify the columns that have at least two or more value that occur at the same maximum frequency."
   ]
  },
  {
   "cell_type": "code",
   "execution_count": 7,
   "metadata": {},
   "outputs": [
    {
     "data": {
      "text/plain": [
       "['animal', 'id']"
      ]
     },
     "execution_count": 7,
     "metadata": {},
     "output_type": "execute_result"
    }
   ],
   "source": [
    "v_col = [\n",
    "    \n",
    "    df.columns[i]\n",
    "    \n",
    "    for i in range(len(df_mode.columns))\n",
    "    \n",
    "    if df_mode.notna().iloc[1,i]\n",
    "]\n",
    "\n",
    "v_col"
   ]
  },
  {
   "cell_type": "markdown",
   "metadata": {},
   "source": [
    "And, in case we want to know which values in these columns occur at the same maximum frequency, we can use a list comprehension and the `value_counts()` function. Normally, list comprehensions are written in a single line. Below I put certain elements at different lines, to make it easier to digest. In order to run the code it makes no difference. Note, you cannot put the line break at any point. What you put them between `(` and `)` you can, as shown below."
   ]
  },
  {
   "cell_type": "code",
   "execution_count": 8,
   "metadata": {},
   "outputs": [
    {
     "data": {
      "text/plain": [
       "[       animal\n",
       " dog         3\n",
       " cat         3\n",
       " horse       1,\n",
       "     id\n",
       " a7   1\n",
       " a5   1\n",
       " a3   1\n",
       " a4   1\n",
       " a1   1\n",
       " a6   1\n",
       " a2   1]"
      ]
     },
     "execution_count": 8,
     "metadata": {},
     "output_type": "execute_result"
    }
   ],
   "source": [
    "[\n",
    "    pd.DataFrame(\n",
    "        \n",
    "        df[c_col].value_counts()\n",
    "\n",
    "    ).sort_values(\n",
    "        \n",
    "        by = c_col, ascending=False\n",
    "    )\n",
    "    \n",
    "    for c_col in v_col\n",
    "]"
   ]
  },
  {
   "cell_type": "code",
   "execution_count": null,
   "metadata": {},
   "outputs": [],
   "source": []
  }
 ],
 "metadata": {
  "kernelspec": {
   "display_name": "Python 3.7.6 ('base')",
   "language": "python",
   "name": "python3"
  },
  "language_info": {
   "codemirror_mode": {
    "name": "ipython",
    "version": 3
   },
   "file_extension": ".py",
   "mimetype": "text/x-python",
   "name": "python",
   "nbconvert_exporter": "python",
   "pygments_lexer": "ipython3",
   "version": "3.7.6"
  },
  "orig_nbformat": 4,
  "vscode": {
   "interpreter": {
    "hash": "69009b686886a9fccdfb88b2fcaa70ca97bd9c58fd38f0a2b10b65ec18ffcda9"
   }
  }
 },
 "nbformat": 4,
 "nbformat_minor": 2
}
